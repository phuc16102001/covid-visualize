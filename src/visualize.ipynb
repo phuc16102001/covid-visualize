{
 "cells": [
  {
   "cell_type": "markdown",
   "metadata": {},
   "source": [
    "# Library"
   ]
  },
  {
   "cell_type": "code",
   "execution_count": null,
   "metadata": {},
   "outputs": [],
   "source": [
    "import warnings\n",
    "warnings.filterwarnings(\"ignore\")\n",
    "\n",
    "import pandas as pd\n",
    "import matplotlib.pyplot as plt\n",
    "import seaborn as sns\n",
    "import statsmodels.formula.api as smf\n",
    "import geopandas as gpd\n",
    "import numpy as np\n",
    "\n",
    "from fuzzywuzzy import process\n",
    "from fuzzywuzzy import fuzz\n",
    "\n",
    "pd.set_option(\"display.precision\", 3)"
   ]
  },
  {
   "cell_type": "markdown",
   "metadata": {},
   "source": [
    "# Load data"
   ]
  },
  {
   "cell_type": "code",
   "execution_count": null,
   "metadata": {},
   "outputs": [],
   "source": [
    "df = pd.read_csv('../data/2022-03-27-clean.csv')\n",
    "df.head()"
   ]
  },
  {
   "cell_type": "markdown",
   "metadata": {},
   "source": [
    "# Z-score"
   ]
  },
  {
   "cell_type": "code",
   "execution_count": null,
   "metadata": {},
   "outputs": [],
   "source": [
    "def z_score(x):\n",
    "    return (x-x.mean())/x.std()"
   ]
  },
  {
   "cell_type": "markdown",
   "metadata": {},
   "source": [
    "# Top 10 Countries With The Most Covid-19 Cases "
   ]
  },
  {
   "cell_type": "code",
   "execution_count": null,
   "metadata": {},
   "outputs": [],
   "source": [
    "top10_total_index = df['TotalCases'].values.argsort()[::-1]\n",
    "top10_total = df.iloc[top10_total_index[:10]]\n",
    "\n",
    "plt.figure(figsize=(15,10))\n",
    "sns.barplot(data=top10_total,x='TotalCases',y='Country,Other',color=\"salmon\")\n",
    "plt.title(\"Top 10 Countries With The Most Covid-19 Cases\")\n",
    "plt.ylabel(\"Country\")\n",
    "plt.xlabel(\"Total cases\")\n",
    "\n",
    "plt.savefig('../img/fig1.png')\n",
    "plt.show()"
   ]
  },
  {
   "cell_type": "markdown",
   "metadata": {},
   "source": [
    "# Top 10 Countries With The Highest Population-to-Case Ratio"
   ]
  },
  {
   "cell_type": "code",
   "execution_count": null,
   "metadata": {
    "tags": []
   },
   "outputs": [],
   "source": [
    "df_rate_case_pop = df['Population']/df['TotalCases'] \n",
    "index = df_rate_case_pop.argsort()[::-1][:10]\n",
    "top10_rate_case_pop = df.iloc[index]\n",
    "top10_rate_case_pop['Rate'] = df_rate_case_pop[index]\n",
    "\n",
    "plt.figure(figsize=(15,10))\n",
    "sns.barplot(data=top10_rate_case_pop,y='Country,Other',x='Rate', color=\"salmon\")\n",
    "plt.xlabel(\"Rate (%)\")\n",
    "plt.ylabel(\"Country\")\n",
    "plt.title(\"Rate total population respected to total cases over countries\")\n",
    "plt.savefig(\"../img/fig2.png\")\n",
    "plt.show()"
   ]
  },
  {
   "cell_type": "markdown",
   "metadata": {},
   "source": [
    "# Create dataframe by groupping by continent"
   ]
  },
  {
   "cell_type": "code",
   "execution_count": null,
   "metadata": {},
   "outputs": [],
   "source": [
    "df_continent = df.groupby(\"Continent\").sum()\n",
    "df_continent = df_continent.reset_index()\n",
    "df_continent.head()"
   ]
  },
  {
   "cell_type": "markdown",
   "metadata": {},
   "source": [
    "# Comparing The Number Of Covid-19 Cases Between Continents"
   ]
  },
  {
   "cell_type": "code",
   "execution_count": null,
   "metadata": {},
   "outputs": [],
   "source": [
    "colors = sns.color_palette('pastel')\n",
    "fig, ax = plt.subplots(1,2,figsize=(20,10))\n",
    "\n",
    "rate_test_pop_continent = df_continent['TotalTests']/df_continent['Population']\n",
    "index = rate_test_pop_continent.values.argsort()[::-1]\n",
    "df_rate_test_pop_continent = df_continent.iloc[index]\n",
    "df_rate_test_pop_continent['Test/pop'] = rate_test_pop_continent[index]\n",
    "\n",
    "ax[0].pie(x=df_rate_test_pop_continent['TotalCases'],\n",
    "            labels=df_rate_test_pop_continent['Continent'],\n",
    "            autopct='%.0f%%',\n",
    "            wedgeprops = {'edgecolor':'k', 'linestyle': 'dashed'},\n",
    "            colors=len(df_rate_test_pop_continent['TotalCases'])*[\"salmon\"])\n",
    "ax[0].set_title(\"Total case over continents\")\n",
    "\n",
    "sns.barplot(ax=ax[1],y=df_rate_test_pop_continent['Test/pop'],x=df_rate_test_pop_continent['Continent'],color=\"salmon\")\n",
    "ax[1].set_title(\"Rate test respected to population over continents\")\n",
    "ax[1].set_xlabel(\"Continent\")\n",
    "ax[1].set_ylabel(\"Rate (%)\")\n",
    "\n",
    "plt.savefig('../img/fig3.png')\n",
    "plt.show()"
   ]
  },
  {
   "cell_type": "markdown",
   "metadata": {},
   "source": [
    "# Pairplot for checking relationship"
   ]
  },
  {
   "cell_type": "code",
   "execution_count": null,
   "metadata": {},
   "outputs": [],
   "source": [
    "sns.pairplot(data=df,vars=['TotalCases','NewCases','TotalDeaths','NewDeaths','TotalRecovered','NewRecovered','ActiveCases','Serious,Critical'],corner=True)\n",
    "plt.show()"
   ]
  },
  {
   "cell_type": "markdown",
   "metadata": {},
   "source": [
    "# Pearson's correlation"
   ]
  },
  {
   "cell_type": "code",
   "execution_count": null,
   "metadata": {},
   "outputs": [],
   "source": [
    "corr = df.corr()\n",
    "corr.style.background_gradient()"
   ]
  },
  {
   "cell_type": "markdown",
   "metadata": {},
   "source": [
    "# Heatmap of correlation"
   ]
  },
  {
   "cell_type": "code",
   "execution_count": null,
   "metadata": {},
   "outputs": [],
   "source": [
    "plt.figure(figsize=(10,8))\n",
    "plt.title(\"Pearson's correlation\")\n",
    "sns.heatmap(corr,cmap='Greys')\n",
    "plt.show()"
   ]
  },
  {
   "cell_type": "markdown",
   "metadata": {},
   "source": [
    "# Sorting correlation of total case"
   ]
  },
  {
   "cell_type": "code",
   "execution_count": null,
   "metadata": {},
   "outputs": [],
   "source": [
    "corr_total_cases = corr['TotalCases']\n",
    "corr_total_cases = corr_total_cases.sort_values()[::-1]\n",
    "\n",
    "plt.figure(figsize=(10,8))\n",
    "sns.barplot(y=corr_total_cases.index,x=corr_total_cases,color='salmon')\n",
    "plt.show()"
   ]
  },
  {
   "cell_type": "markdown",
   "metadata": {},
   "source": [
    "# Death-to-case ratio between countries"
   ]
  },
  {
   "cell_type": "code",
   "execution_count": null,
   "metadata": {},
   "outputs": [],
   "source": [
    "mean = df['Deaths/1M pop'].mean()\n",
    "median = df['Deaths/1M pop'].median() \n",
    "\n",
    "plt.figure(figsize=(10,8))\n",
    "plt.hist(df['Deaths/1M pop'],bins = len(df)//4, color='salmon')\n",
    "\n",
    "plt.axvline(mean, color='salmon', linestyle='--', label=\"Mean\")\n",
    "plt.axvline(median, color='salmon', linestyle='-', label=\"Median\")\n",
    "\n",
    "plt.legend()\n",
    "plt.xlabel('Deaths/1M population Histogram')\n",
    "plt.savefig('../img/fig4.png')\n",
    "plt.show()"
   ]
  },
  {
   "cell_type": "markdown",
   "metadata": {},
   "source": [
    "# Relationship log-log of death and serious "
   ]
  },
  {
   "cell_type": "code",
   "execution_count": null,
   "metadata": {},
   "outputs": [],
   "source": [
    "df['Serious_Log_Std'] = z_score(np.log(df['Serious,Critical']))\n",
    "df['TotalDeaths_Log_Std'] = z_score(np.log(df['TotalDeaths']))\n",
    "\n",
    "plt.figure(figsize=(10,8))\n",
    "\n",
    "sns.regplot(data=df,x='Serious_Log_Std',y='TotalDeaths_Log_Std',color='salmon')\n",
    "plt.xlabel(\"Log(Serious)\")\n",
    "plt.ylabel(\"Log(Death)\")\n",
    "plt.title(\"Relationship between log-log of death and serious case\")\n",
    "\n",
    "plt.savefig(\"../img/fig5.png\")\n",
    "plt.show()"
   ]
  },
  {
   "cell_type": "code",
   "execution_count": null,
   "metadata": {},
   "outputs": [],
   "source": [
    "result = smf.ols(' Q(\"TotalDeaths_Log_Std\") ~ Q(\"Serious_Log_Std\")',data=df).fit()\n",
    "result.summary()"
   ]
  },
  {
   "cell_type": "markdown",
   "metadata": {},
   "source": [
    "# Dead and recovery rate"
   ]
  },
  {
   "cell_type": "code",
   "execution_count": null,
   "metadata": {},
   "outputs": [],
   "source": [
    "df_rate = pd.DataFrame(df['Country,Other'])\n",
    "df_rate['Dead rate'] = df['TotalDeaths'] / df['TotalCases'] \n",
    "df_rate['Recovered rate'] = df['TotalRecovered'] / df['TotalCases'] \n",
    "\n",
    "plt.figure(figsize=(10,8))\n",
    "df_rate = df_rate.melt('Country,Other',var_name='Rate type', value_name='Rate (%)')\n",
    "sns.swarmplot(data=df_rate,y='Rate (%)',x='Rate type',color='salmon')\n",
    "plt.title(\"Dead and recovered rate\")\n",
    "plt.savefig('../img/fig6.png')\n",
    "plt.show()"
   ]
  },
  {
   "cell_type": "code",
   "execution_count": null,
   "metadata": {},
   "outputs": [],
   "source": [
    "df['TotalCases_Std'] = z_score(df['TotalCases'])\n",
    "df['TotalDeaths_Std'] = z_score(df['TotalDeaths'])\n",
    "df['TotalRecovered_Std'] = z_score(df['TotalRecovered'])\n",
    "\n",
    "result = smf.ols('TotalCases_Std ~ TotalRecovered_Std + TotalDeaths_Std',data=df).fit()\n",
    "result.summary()"
   ]
  },
  {
   "cell_type": "markdown",
   "metadata": {},
   "source": [
    "# Total test less than total cases"
   ]
  },
  {
   "cell_type": "code",
   "execution_count": null,
   "metadata": {},
   "outputs": [],
   "source": [
    "plt.figure(figsize=(10,8))\n",
    "\n",
    "df_delta_test_total = df\n",
    "df_delta_test_total['Delta'] = df['TotalTests']-df['TotalCases']\n",
    "df_delta_test_total = df_delta_test_total.sort_values(by='Delta',ascending=True)[:5]\n",
    "\n",
    "ax = sns.barplot(data=df_delta_test_total,x='Country,Other',y='Delta',color='salmon')\n",
    "ax.axhline(0,color='black')\n",
    "\n",
    "plt.xlabel(\"Country\")\n",
    "plt.ylabel(\"(Total test - Total case)\")\n",
    "plt.title(\"Difference between total test and total case over countries\")\n",
    "plt.savefig(\"../img/fig7.png\")\n",
    "plt.show()"
   ]
  },
  {
   "cell_type": "markdown",
   "metadata": {},
   "source": [
    "# Define world map"
   ]
  },
  {
   "cell_type": "code",
   "execution_count": null,
   "metadata": {},
   "outputs": [],
   "source": [
    "world = gpd.read_file(gpd.datasets.get_path('naturalearth_lowres'))\n",
    "world.head()"
   ]
  },
  {
   "cell_type": "markdown",
   "metadata": {},
   "source": [
    "# Cases on map over countries"
   ]
  },
  {
   "cell_type": "code",
   "execution_count": null,
   "metadata": {},
   "outputs": [],
   "source": [
    "countries = df['Country,Other']\n",
    "\n",
    "def fuzzy_match(findStr, listAC, nElement=1):\n",
    "    matches = process.extract(findStr, listAC, limit=nElement, scorer = fuzz.token_sort_ratio)\n",
    "    return matches\n",
    "\n",
    "for i, country in enumerate(countries):\n",
    "    candidates = fuzzy_match(country,world['name'],1)\n",
    "    if (candidates[0][1]<100 and candidates[0][1]>75):\n",
    "        print(country,candidates)\n",
    "        countries[i] = candidates[0][0]\n",
    "\n",
    "countries.replace(\"USA\",\"United States of America\",inplace=True)\n",
    "countries.replace(\"UAE\",\"United Arab Emirates\",inplace=True)\n",
    "countries.replace(\"UK\",\"United Kingdom\",inplace=True)\n",
    "\n",
    "df['Country'] = countries\n",
    "df['Rate_case'] = df['Population']/df['TotalCases'] \n",
    "world_country = world.merge(df,how='left',left_on='name',right_on='Country')"
   ]
  },
  {
   "cell_type": "code",
   "execution_count": null,
   "metadata": {},
   "outputs": [],
   "source": [
    "fig, ax = plt.subplots(1,1,figsize=(15,8))\n",
    "world_country.plot(column='TotalCases',ax=ax,legend=True,cmap=sns.color_palette(\"dark:salmon_r\", as_cmap=True),edgecolors='grey')\n",
    "plt.title(\"Total cases over countries\")\n",
    "plt.savefig(\"../img/fig8.png\")\n",
    "plt.show()"
   ]
  }
 ],
 "metadata": {
  "interpreter": {
   "hash": "ec4b90ea91a98e3c682a231f73f23f29f61e65275b42abd646ff5b4a3bc2f063"
  },
  "kernelspec": {
   "display_name": "Python 3.9.7 ('base')",
   "language": "python",
   "name": "python3"
  },
  "language_info": {
   "codemirror_mode": {
    "name": "ipython",
    "version": 3
   },
   "file_extension": ".py",
   "mimetype": "text/x-python",
   "name": "python",
   "nbconvert_exporter": "python",
   "pygments_lexer": "ipython3",
   "version": "3.9.7"
  }
 },
 "nbformat": 4,
 "nbformat_minor": 4
}
